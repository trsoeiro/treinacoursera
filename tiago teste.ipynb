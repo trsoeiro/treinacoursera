{
 "cells": [
  {
   "cell_type": "code",
   "execution_count": 1,
   "id": "e6fb951f-ad6e-4557-b903-55fb88e4a96e",
   "metadata": {},
   "outputs": [
    {
     "data": {
      "text/plain": [
       "2"
      ]
     },
     "execution_count": 1,
     "metadata": {},
     "output_type": "execute_result"
    }
   ],
   "source": [
    "1+1"
   ]
  },
  {
   "cell_type": "code",
   "execution_count": 3,
   "id": "2b07c502-9287-4d5a-a36e-01a4a3712e47",
   "metadata": {},
   "outputs": [
    {
     "data": {
      "text/plain": [
       "50"
      ]
     },
     "execution_count": 3,
     "metadata": {},
     "output_type": "execute_result"
    }
   ],
   "source": [
    "5*10"
   ]
  },
  {
   "cell_type": "markdown",
   "id": "8a11984f-7301-489b-ba01-7c8f52344966",
   "metadata": {
    "tags": []
   },
   "source": [
    "##testando"
   ]
  },
  {
   "cell_type": "markdown",
   "id": "a400061a-bf3d-4c9c-b8ea-10635b122d92",
   "metadata": {},
   "source": [
    "testando 2\n",
    "emmweme"
   ]
  },
  {
   "cell_type": "code",
   "execution_count": null,
   "id": "59a0efff-7289-43d3-b666-5ca6f55177ce",
   "metadata": {},
   "outputs": [],
   "source": []
  }
 ],
 "metadata": {
  "kernelspec": {
   "display_name": "Python",
   "language": "python",
   "name": "conda-env-python-py"
  },
  "language_info": {
   "codemirror_mode": {
    "name": "ipython",
    "version": 3
   },
   "file_extension": ".py",
   "mimetype": "text/x-python",
   "name": "python",
   "nbconvert_exporter": "python",
   "pygments_lexer": "ipython3",
   "version": "3.7.12"
  }
 },
 "nbformat": 4,
 "nbformat_minor": 5
}
